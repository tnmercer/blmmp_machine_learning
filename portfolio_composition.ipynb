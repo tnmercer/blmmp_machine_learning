{
 "cells": [
  {
   "cell_type": "code",
   "execution_count": 35,
   "id": "e936904d-c557-4333-a1e8-2227ae82b1fb",
   "metadata": {},
   "outputs": [],
   "source": [
    "# Imports\n",
    "import pandas as pd\n",
    "from datetime import date\n",
    "import pickle\n",
    "from pathlib import Path\n",
    "from utils import *"
   ]
  },
  {
   "cell_type": "code",
   "execution_count": 36,
   "id": "87c1ebd8-24f9-4b2d-a1cc-8641266004be",
   "metadata": {},
   "outputs": [],
   "source": [
    "portfolio_start_date = '2013-01-02'\n"
   ]
  },
  {
   "cell_type": "code",
   "execution_count": 47,
   "id": "eb9427b8-fd4f-40eb-b7ae-9485ca012d6d",
   "metadata": {},
   "outputs": [
    {
     "data": {
      "text/html": [
       "<div>\n",
       "<style scoped>\n",
       "    .dataframe tbody tr th:only-of-type {\n",
       "        vertical-align: middle;\n",
       "    }\n",
       "\n",
       "    .dataframe tbody tr th {\n",
       "        vertical-align: top;\n",
       "    }\n",
       "\n",
       "    .dataframe thead th {\n",
       "        text-align: right;\n",
       "    }\n",
       "</style>\n",
       "<table border=\"1\" class=\"dataframe\">\n",
       "  <thead>\n",
       "    <tr style=\"text-align: right;\">\n",
       "      <th></th>\n",
       "      <th>VTI</th>\n",
       "    </tr>\n",
       "  </thead>\n",
       "  <tbody>\n",
       "    <tr>\n",
       "      <th>0</th>\n",
       "      <td>100</td>\n",
       "    </tr>\n",
       "  </tbody>\n",
       "</table>\n",
       "</div>"
      ],
      "text/plain": [
       "   VTI\n",
       "0  100"
      ]
     },
     "execution_count": 47,
     "metadata": {},
     "output_type": "execute_result"
    }
   ],
   "source": [
    "# Portfolio 2: Vanguard Total Stock Market ETF\n",
    "vanguard_total_stock_etf = pd.DataFrame(\n",
    "    columns=['VTI'],\n",
    "    data=[[100]]\n",
    ")\n",
    "\n",
    "# Save to PKL\n",
    "\n",
    "dataframe = vanguard_total_stock_etf\n",
    "output = open(Path('./Resources/vanguard_total_stock_etf.pkl'), 'wb')\n",
    "pickle.dump(dataframe, output)\n",
    "output.close()\n",
    "\n",
    "vanguard_total_stock_etf"
   ]
  },
  {
   "cell_type": "code",
   "execution_count": 49,
   "id": "7858895b-37ea-48e6-973e-7102a68bcaad",
   "metadata": {},
   "outputs": [
    {
     "data": {
      "text/html": [
       "<div>\n",
       "<style scoped>\n",
       "    .dataframe tbody tr th:only-of-type {\n",
       "        vertical-align: middle;\n",
       "    }\n",
       "\n",
       "    .dataframe tbody tr th {\n",
       "        vertical-align: top;\n",
       "    }\n",
       "\n",
       "    .dataframe thead th {\n",
       "        text-align: right;\n",
       "    }\n",
       "</style>\n",
       "<table border=\"1\" class=\"dataframe\">\n",
       "  <thead>\n",
       "    <tr style=\"text-align: right;\">\n",
       "      <th></th>\n",
       "      <th>FXAIX</th>\n",
       "      <th>FSMDX</th>\n",
       "      <th>FSSNX</th>\n",
       "      <th>FSGGX</th>\n",
       "      <th>FXNAX</th>\n",
       "      <th>FCONX</th>\n",
       "      <th>BIL</th>\n",
       "    </tr>\n",
       "  </thead>\n",
       "  <tbody>\n",
       "    <tr>\n",
       "      <th>0</th>\n",
       "      <td>35</td>\n",
       "      <td>3</td>\n",
       "      <td>4</td>\n",
       "      <td>18</td>\n",
       "      <td>35</td>\n",
       "      <td>3</td>\n",
       "      <td>2</td>\n",
       "    </tr>\n",
       "  </tbody>\n",
       "</table>\n",
       "</div>"
      ],
      "text/plain": [
       "   FXAIX  FSMDX  FSSNX  FSGGX  FXNAX  FCONX  BIL\n",
       "0     35      3      4     18     35      3    2"
      ]
     },
     "execution_count": 49,
     "metadata": {},
     "output_type": "execute_result"
    }
   ],
   "source": [
    "# Portfolios 179-183: Fidelity Index Focused Models\n",
    "# Replaced SPRXX with BIL as no data on yahoo finanne\n",
    "\n",
    "fidelity_index_focused_models = pd.DataFrame(\n",
    "    columns=['FXAIX','FSMDX','FSSNX','FSGGX','FXNAX','FCONX','BIL'],\n",
    "    data=[[35,3,4,18,35,3,2]]\n",
    ")\n",
    "\n",
    "# Save to PKL\n",
    "\n",
    "dataframe = fidelity_index_focused_models\n",
    "output = open(Path('./Resources/fidelity_index_focused_models.pkl'), 'wb')\n",
    "pickle.dump(dataframe, output)\n",
    "output.close()\n",
    "\n",
    "fidelity_index_focused_models"
   ]
  },
  {
   "cell_type": "code",
   "execution_count": 39,
   "id": "8333b99a-e927-40f7-8ed7-6e3895573f50",
   "metadata": {},
   "outputs": [
    {
     "data": {
      "text/html": [
       "<div>\n",
       "<style scoped>\n",
       "    .dataframe tbody tr th:only-of-type {\n",
       "        vertical-align: middle;\n",
       "    }\n",
       "\n",
       "    .dataframe tbody tr th {\n",
       "        vertical-align: top;\n",
       "    }\n",
       "\n",
       "    .dataframe thead th {\n",
       "        text-align: right;\n",
       "    }\n",
       "</style>\n",
       "<table border=\"1\" class=\"dataframe\">\n",
       "  <thead>\n",
       "    <tr style=\"text-align: right;\">\n",
       "      <th></th>\n",
       "      <th>VTSAX</th>\n",
       "      <th>VTIAX</th>\n",
       "      <th>VNQ</th>\n",
       "      <th>VBTLX</th>\n",
       "    </tr>\n",
       "  </thead>\n",
       "  <tbody>\n",
       "    <tr>\n",
       "      <th>2013-01-02</th>\n",
       "      <td>48</td>\n",
       "      <td>24</td>\n",
       "      <td>8</td>\n",
       "      <td>20</td>\n",
       "    </tr>\n",
       "  </tbody>\n",
       "</table>\n",
       "</div>"
      ],
      "text/plain": [
       "            VTSAX  VTIAX  VNQ  VBTLX\n",
       "2013-01-02     48     24    8     20"
      ]
     },
     "execution_count": 39,
     "metadata": {},
     "output_type": "execute_result"
    }
   ],
   "source": [
    "# Rick Ferri's Core 4\n",
    "rick_ferris_core = pd.DataFrame(\n",
    "    columns=['VTSAX','VTIAX','VNQ','VBTLX'],\n",
    "    data=[[48,24,8,20]],\n",
    "    index=[portfolio_start_date]\n",
    ")\n",
    "\n",
    "# Save to PKL\n",
    "\n",
    "dataframe = rick_ferris_core\n",
    "output = open(Path('./Resources/rick_ferris_core.pkl'), 'wb')\n",
    "pickle.dump(dataframe, output)\n",
    "output.close()\n",
    "\n",
    "rick_ferris_core"
   ]
  },
  {
   "cell_type": "code",
   "execution_count": 40,
   "id": "8df3b283-bafc-42e9-8a06-29a19aad06d7",
   "metadata": {},
   "outputs": [
    {
     "data": {
      "text/html": [
       "<div>\n",
       "<style scoped>\n",
       "    .dataframe tbody tr th:only-of-type {\n",
       "        vertical-align: middle;\n",
       "    }\n",
       "\n",
       "    .dataframe tbody tr th {\n",
       "        vertical-align: top;\n",
       "    }\n",
       "\n",
       "    .dataframe thead th {\n",
       "        text-align: right;\n",
       "    }\n",
       "</style>\n",
       "<table border=\"1\" class=\"dataframe\">\n",
       "  <thead>\n",
       "    <tr style=\"text-align: right;\">\n",
       "      <th></th>\n",
       "      <th>VFIAX</th>\n",
       "      <th>VVIAX</th>\n",
       "      <th>VTMGX</th>\n",
       "      <th>VEMAX</th>\n",
       "      <th>VIMAX</th>\n",
       "      <th>VSMAX</th>\n",
       "      <th>VIPSX</th>\n",
       "      <th>VSBSX</th>\n",
       "    </tr>\n",
       "  </thead>\n",
       "  <tbody>\n",
       "    <tr>\n",
       "      <th>2013-01-02</th>\n",
       "      <td>15</td>\n",
       "      <td>15</td>\n",
       "      <td>15</td>\n",
       "      <td>6</td>\n",
       "      <td>5</td>\n",
       "      <td>4</td>\n",
       "      <td>20</td>\n",
       "      <td>20</td>\n",
       "    </tr>\n",
       "  </tbody>\n",
       "</table>\n",
       "</div>"
      ],
      "text/plain": [
       "            VFIAX  VVIAX  VTMGX  VEMAX  VIMAX  VSMAX  VIPSX  VSBSX\n",
       "2013-01-02     15     15     15      6      5      4     20     20"
      ]
     },
     "execution_count": 40,
     "metadata": {},
     "output_type": "execute_result"
    }
   ],
   "source": [
    "# Betterment Portfolios\n",
    "betterment = pd.DataFrame(\n",
    "    columns=['VFIAX','VVIAX','VTMGX','VEMAX','VIMAX','VSMAX','VIPSX','VSBSX'],\n",
    "    data=[[15,15,15,6,5,4,20,20]],\n",
    "    index=[portfolio_start_date]\n",
    ")\n",
    "\n",
    "# Save to PKL\n",
    "\n",
    "dataframe = betterment\n",
    "output = open(Path('./Resources/betterment.pkl'), 'wb')\n",
    "pickle.dump(dataframe, output)\n",
    "output.close()\n",
    "\n",
    "betterment"
   ]
  },
  {
   "cell_type": "code",
   "execution_count": 51,
   "id": "14d4a6d5-e3b2-44c0-bf2b-92d68218dde2",
   "metadata": {},
   "outputs": [
    {
     "data": {
      "text/html": [
       "<div>\n",
       "<style scoped>\n",
       "    .dataframe tbody tr th:only-of-type {\n",
       "        vertical-align: middle;\n",
       "    }\n",
       "\n",
       "    .dataframe tbody tr th {\n",
       "        vertical-align: top;\n",
       "    }\n",
       "\n",
       "    .dataframe thead th {\n",
       "        text-align: right;\n",
       "    }\n",
       "</style>\n",
       "<table border=\"1\" class=\"dataframe\">\n",
       "  <thead>\n",
       "    <tr style=\"text-align: right;\">\n",
       "      <th></th>\n",
       "      <th>ira_limit</th>\n",
       "    </tr>\n",
       "  </thead>\n",
       "  <tbody>\n",
       "    <tr>\n",
       "      <th>2012-01-02</th>\n",
       "      <td>5000</td>\n",
       "    </tr>\n",
       "    <tr>\n",
       "      <th>2013-01-01</th>\n",
       "      <td>5500</td>\n",
       "    </tr>\n",
       "    <tr>\n",
       "      <th>2014-01-01</th>\n",
       "      <td>5500</td>\n",
       "    </tr>\n",
       "    <tr>\n",
       "      <th>2015-01-01</th>\n",
       "      <td>5500</td>\n",
       "    </tr>\n",
       "    <tr>\n",
       "      <th>2016-01-01</th>\n",
       "      <td>5500</td>\n",
       "    </tr>\n",
       "  </tbody>\n",
       "</table>\n",
       "</div>"
      ],
      "text/plain": [
       "            ira_limit\n",
       "2012-01-02       5000\n",
       "2013-01-01       5500\n",
       "2014-01-01       5500\n",
       "2015-01-01       5500\n",
       "2016-01-01       5500"
      ]
     },
     "execution_count": 51,
     "metadata": {},
     "output_type": "execute_result"
    }
   ],
   "source": [
    "# IRA Contribution limits\n",
    "\n",
    "today = date.today()\n",
    "dates = pd.date_range(start='2012-01-01',end=today, freq='BAS')\n",
    "\n",
    "ira_contribution_limits = pd.DataFrame(\n",
    "    index=dates, \n",
    "    data=[5000, 5500, 5500, 5500, 5500, 5500, 5500, 6000, 6000, 6000, 6000],\n",
    "    columns=['ira_limit']\n",
    ")\n",
    "\n",
    "# Save to PKL\n",
    "\n",
    "dataframe = ira_contribution_limits\n",
    "output = open(Path('./Resources/ira_contribution_limits.pkl'), 'wb')\n",
    "pickle.dump(dataframe, output)\n",
    "output.close()\n",
    "\n",
    "ira_contribution_limits.head()"
   ]
  },
  {
   "cell_type": "code",
   "execution_count": 21,
   "id": "5f3f148c-1e82-4049-9498-10382f0efd4b",
   "metadata": {},
   "outputs": [],
   "source": [
    "# all_portfolios = [\n",
    "#     vanguard_total_stock_etf,\n",
    "#     fidelity_index_focused_models,\n",
    "#     rick_ferris_core,\n",
    "#     betterment\n",
    "# ]"
   ]
  }
 ],
 "metadata": {
  "kernelspec": {
   "display_name": "Python 3 (ipykernel)",
   "language": "python",
   "name": "python3"
  },
  "language_info": {
   "codemirror_mode": {
    "name": "ipython",
    "version": 3
   },
   "file_extension": ".py",
   "mimetype": "text/x-python",
   "name": "python",
   "nbconvert_exporter": "python",
   "pygments_lexer": "ipython3",
   "version": "3.7.13"
  }
 },
 "nbformat": 4,
 "nbformat_minor": 5
}
