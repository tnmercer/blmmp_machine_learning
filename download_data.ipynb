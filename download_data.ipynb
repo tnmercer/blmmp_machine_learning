{
 "cells": [
  {
   "cell_type": "code",
   "execution_count": 3,
   "id": "71a3a4fc-07d7-45be-92fb-ba0b43fff2fe",
   "metadata": {},
   "outputs": [],
   "source": [
    "from utils import *"
   ]
  },
  {
   "cell_type": "code",
   "execution_count": 4,
   "id": "8ae11279-68c4-4cec-b02d-ec5c46bff7c1",
   "metadata": {},
   "outputs": [
    {
     "data": {
      "text/plain": [
       "\"\\nPortfolio 2: Vanguard Total Stock Market ETF\\nVTI Vanguard Total Stock Market ETF   VTI\\n\\nPortfolios 179-183: Fidelity Index Focused Models\\nFXAIX  Fidelity 500 Index Fund\\t\\nFSMDX  Fidelity Mid Cap Index Fund \\nFSSNX  Fidelity Small Cap Index Fund \\nFSGX   Fidelity Ex-US Global Index Fund         <--- no data\\nFXNAX  Fidelity US Bond Index Fund \\nFCONX  Fidelity Conservative US Bond Fund \\nSPRXX  Fidelity Core Money Market Fund          <--- is this correct? or a private fund?\\n\\nRick Ferri's Core 4\\nVTSAX/VTI  Vanguard Total Stock Market Fund\\nVTIAX/VXUS Vanguard Total International Stock Market Fund\\nVGSLX/VNQ  Vanguard REIT Index Fund\\nVBTLX/BND  Vanguard Total Bond Market Fund\\n\\nBetterment Portfolios\\nVFIAX\\tVanguard US Total Stock Market Index Fund\\nVVIAX\\tVanguard Value Index FunD\\nVTMGX\\tVanguard Developed Markets Index Fund\\nVEMAX\\tVanguard Emerging Markets Index Fund\\nVIMAX\\tVanguard Mid Cap Index Fund\\nVSMAX\\tVanguard Small Cap Value Index Fund\\nVIPSX\\tVanguard Inflation-Protected Securities Fund\\nVSBSX\\tVanguard Short Term Treasury Index Fund\\n\""
      ]
     },
     "execution_count": 4,
     "metadata": {},
     "output_type": "execute_result"
    }
   ],
   "source": [
    "'''\n",
    "Portfolio 2: Vanguard Total Stock Market ETF\n",
    "VTI Vanguard Total Stock Market ETF   VTI\n",
    "\n",
    "Portfolios 179-183: Fidelity Index Focused Models\n",
    "FXAIX  Fidelity 500 Index Fund\t\n",
    "FSMDX  Fidelity Mid Cap Index Fund \n",
    "FSSNX  Fidelity Small Cap Index Fund \n",
    "FSGX   Fidelity Ex-US Global Index Fund         <--- no data\n",
    "FXNAX  Fidelity US Bond Index Fund \n",
    "FCONX  Fidelity Conservative US Bond Fund \n",
    "SPRXX  Fidelity Core Money Market Fund          <--- is this correct? or a private fund?\n",
    "\n",
    "Rick Ferri's Core 4\n",
    "VTSAX/VTI  Vanguard Total Stock Market Fund\n",
    "VTIAX/VXUS Vanguard Total International Stock Market Fund\n",
    "VGSLX/VNQ  Vanguard REIT Index Fund\n",
    "VBTLX/BND  Vanguard Total Bond Market Fund\n",
    "\n",
    "Betterment Portfolios\n",
    "VFIAX\tVanguard US Total Stock Market Index Fund\n",
    "VVIAX\tVanguard Value Index FunD\n",
    "VTMGX\tVanguard Developed Markets Index Fund\n",
    "VEMAX\tVanguard Emerging Markets Index Fund\n",
    "VIMAX\tVanguard Mid Cap Index Fund\n",
    "VSMAX\tVanguard Small Cap Value Index Fund\n",
    "VIPSX\tVanguard Inflation-Protected Securities Fund\n",
    "VSBSX\tVanguard Short Term Treasury Index Fund\n",
    "'''"
   ]
  },
  {
   "cell_type": "code",
   "execution_count": 8,
   "id": "db237a4a-e137-4cb7-9d93-78c23d958d4f",
   "metadata": {},
   "outputs": [
    {
     "name": "stdout",
     "output_type": "stream",
     "text": [
      "load_data ------ path data\\BIL.csv doesn't exist.\n",
      "load_data ------ initiating download for [BIL] now...\n",
      "download_data -- ticker: BIL\n",
      "                 High        Low       Open      Close   Volume  Adj Close  \\\n",
      "Date                                                                         \n",
      "2007-05-30  91.599998  91.500000  91.580002  91.599998   1550.0  83.470070   \n",
      "2007-05-31  91.599998  91.580002  91.580002  91.599998  11200.0  83.470070   \n",
      "2007-06-01  91.620003  91.620003  91.620003  91.620003   1450.0  83.488312   \n",
      "2007-06-04  91.639999  91.639999  91.639999  91.639999   1050.0  83.506523   \n",
      "2007-06-05  91.680000  91.639999  91.660004  91.639999   3750.0  83.506523   \n",
      "2007-06-06  91.680000  91.639999  91.639999  91.680000   9750.0  83.542938   \n",
      "2007-06-07  91.660004  91.639999  91.639999  91.660004  12150.0  83.524742   \n",
      "2007-06-08  91.680000  91.620003  91.680000  91.680000   7850.0  83.542938   \n",
      "2007-06-11  91.720001  91.680000  91.680000  91.720001   2400.0  83.579453   \n",
      "2007-06-12  91.720001  91.639999  91.720001  91.639999   3900.0  83.506523   \n",
      "2007-06-13  91.720001  91.639999  91.639999  91.720001   3750.0  83.579453   \n",
      "2007-06-14  91.760002  91.760002  91.760002  91.760002  13400.0  83.615875   \n",
      "2007-06-15  91.839996  91.739998  91.800003  91.839996   1050.0  83.688805   \n",
      "2007-06-18  91.879997  91.800003  91.820000  91.860001  28000.0  83.706993   \n",
      "2007-06-19  91.860001  91.860001  91.860001  91.860001    850.0  83.706993   \n",
      "2007-06-20  91.900002  91.839996  91.839996  91.879997   3100.0  83.725235   \n",
      "2007-06-21  91.900002  91.860001  91.860001  91.879997    850.0  83.725235   \n",
      "2007-06-22  91.959999  91.900002  91.900002  91.959999   2200.0  83.798103   \n",
      "2007-06-25  91.919998  91.900002  91.900002  91.919998  29700.0  83.761635   \n",
      "2007-06-26  91.940002  91.900002  91.919998  91.940002   5100.0  83.779922   \n",
      "\n",
      "            Ret_Index  \n",
      "Date                   \n",
      "2007-05-30   1.000000  \n",
      "2007-05-31   1.000000  \n",
      "2007-06-01   1.000219  \n",
      "2007-06-04   1.000437  \n",
      "2007-06-05   1.000437  \n",
      "2007-06-06   1.000873  \n",
      "2007-06-07   1.000655  \n",
      "2007-06-08   1.000873  \n",
      "2007-06-11   1.001310  \n",
      "2007-06-12   1.000437  \n",
      "2007-06-13   1.001310  \n",
      "2007-06-14   1.001747  \n",
      "2007-06-15   1.002621  \n",
      "2007-06-18   1.002838  \n",
      "2007-06-19   1.002838  \n",
      "2007-06-20   1.003057  \n",
      "2007-06-21   1.003057  \n",
      "2007-06-22   1.003930  \n",
      "2007-06-25   1.003493  \n",
      "2007-06-26   1.003712  \n",
      "save_data ------ saving data\\BIL.csv\n",
      "---- symbol_df ----\n",
      "         Date       High        Low       Open      Close   Volume  Adj Close  \\\n",
      "0  2007-05-30  91.599998  91.500000  91.580002  91.599998   1550.0  83.470070   \n",
      "1  2007-05-31  91.599998  91.580002  91.580002  91.599998  11200.0  83.470070   \n",
      "2  2007-06-01  91.620003  91.620003  91.620003  91.620003   1450.0  83.488312   \n",
      "3  2007-06-04  91.639999  91.639999  91.639999  91.639999   1050.0  83.506523   \n",
      "4  2007-06-05  91.680000  91.639999  91.660004  91.639999   3750.0  83.506523   \n",
      "\n",
      "   Ret_Index  \n",
      "0   1.000000  \n",
      "1   1.000000  \n",
      "2   1.000219  \n",
      "3   1.000437  \n",
      "4   1.000437  \n",
      "            Date       High        Low       Open      Close     Volume  \\\n",
      "3844  2022-09-02  91.440002  91.419998  91.430000  91.440002  5871200.0   \n",
      "3845  2022-09-06  91.440002  91.430000  91.430000  91.440002  7990900.0   \n",
      "3846  2022-09-07  91.449997  91.430000  91.430000  91.449997  5180700.0   \n",
      "3847  2022-09-08  91.470001  91.449997  91.470001  91.470001  4564500.0   \n",
      "3848  2022-09-09  91.470001  91.459999  91.459999  91.470001  1871100.0   \n",
      "\n",
      "      Adj Close  Ret_Index  \n",
      "3844  91.440002   1.095483  \n",
      "3845  91.440002   1.095483  \n",
      "3846  91.449997   1.095602  \n",
      "3847  91.470001   1.095842  \n",
      "3848  91.470001   1.095842  \n"
     ]
    }
   ],
   "source": [
    "ticker = 'BIL'\n",
    "\n",
    "df = load_data(ticker, set_index=False, index_column='')"
   ]
  },
  {
   "cell_type": "code",
   "execution_count": 3,
   "id": "90689517-4b33-4c4b-867f-940eb82f08ef",
   "metadata": {},
   "outputs": [
    {
     "data": {
      "text/plain": [
       "True"
      ]
     },
     "execution_count": 3,
     "metadata": {},
     "output_type": "execute_result"
    }
   ],
   "source": [
    "DEBUG"
   ]
  },
  {
   "cell_type": "code",
   "execution_count": null,
   "id": "1e29487e-0818-4a62-ac68-9708ec25bca6",
   "metadata": {},
   "outputs": [],
   "source": []
  }
 ],
 "metadata": {
  "kernelspec": {
   "display_name": "Python 3 (ipykernel)",
   "language": "python",
   "name": "python3"
  },
  "language_info": {
   "codemirror_mode": {
    "name": "ipython",
    "version": 3
   },
   "file_extension": ".py",
   "mimetype": "text/x-python",
   "name": "python",
   "nbconvert_exporter": "python",
   "pygments_lexer": "ipython3",
   "version": "3.9.7"
  }
 },
 "nbformat": 4,
 "nbformat_minor": 5
}
