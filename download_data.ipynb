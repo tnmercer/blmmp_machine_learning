{
 "cells": [
  {
   "cell_type": "code",
   "execution_count": 1,
   "id": "71a3a4fc-07d7-45be-92fb-ba0b43fff2fe",
   "metadata": {},
   "outputs": [],
   "source": [
    "from utils import *"
   ]
  },
  {
   "cell_type": "code",
   "execution_count": null,
   "id": "8ae11279-68c4-4cec-b02d-ec5c46bff7c1",
   "metadata": {},
   "outputs": [],
   "source": [
    "'''\n",
    "Portfolio 2: Vanguard Total Stock Market ETF\n",
    "VTI Vanguard Total Stock Market ETF   VTI\n",
    "\n",
    "Portfolios 179-183: Fidelity Index Focused Models\n",
    "FXAIX  Fidelity 500 Index Fund\t\n",
    "FSMDX  Fidelity Mid Cap Index Fund \n",
    "FSSNX  Fidelity Small Cap Index Fund \n",
    "FSGX   Fidelity Ex-US Global Index Fund         <--- no data\n",
    "FXNAX  Fidelity US Bond Index Fund \n",
    "FCONX  Fidelity Conservative US Bond Fund \n",
    "SPRXX  Fidelity Core Money Market Fund          <--- is this correct? or a private fund?\n",
    "\n",
    "Rick Ferri's Core 4\n",
    "VTSAX/VTI  Vanguard Total Stock Market Fund\n",
    "VTSAX/VXUS Vanguard Total International Stock Market Fund\n",
    "VGSLX/VNQ  Vanguard REIT Index Fund\n",
    "VBTLX/BND  Vanguard Total Bond Market Fund\n",
    "\n",
    "Betterment Portfolios\n",
    "VFIAX\tVanguard US Total Stock Market Index Fund\n",
    "VVIAX\tVanguard Value Index FunD\n",
    "VTMGX\tVanguard Developed Markets Index Fund\n",
    "VEMAX\tVanguard Emerging Markets Index Fund\n",
    "VIMAX\tVanguard Mid Cap Index Fund\n",
    "VSMAX\tVanguard Small Cap Value Index Fund\n",
    "VIPSX\tVanguard Inflation-Protected Securities Fund\n",
    "VSBSX\tVanguard Short Term Treasury Index Fund\n",
    "'''"
   ]
  },
  {
   "cell_type": "code",
   "execution_count": 22,
   "id": "db237a4a-e137-4cb7-9d93-78c23d958d4f",
   "metadata": {},
   "outputs": [
    {
     "name": "stdout",
     "output_type": "stream",
     "text": [
      "load_data ------ path data\\VSBSX.csv doesn't exist.\n",
      "load_data ------ initiating download for [VSBSX] now...\n",
      "download_data -- ticker: VSBSX\n",
      "                 High        Low       Open      Close  Volume  Adj Close  \\\n",
      "Date                                                                        \n",
      "2009-11-23  20.010000  20.010000  20.010000  20.010000     0.0  17.739416   \n",
      "2009-11-24  20.020000  20.020000  20.020000  20.020000     0.0  17.748283   \n",
      "2009-11-25  20.030001  20.030001  20.030001  20.030001     0.0  17.757137   \n",
      "2009-11-27  20.040001  20.040001  20.040001  20.040001     0.0  17.766010   \n",
      "2009-11-30  20.049999  20.049999  20.049999  20.049999     0.0  17.774868   \n",
      "2009-12-01  20.049999  20.049999  20.049999  20.049999     0.0  17.774868   \n",
      "2009-12-02  20.040001  20.040001  20.040001  20.040001     0.0  17.766010   \n",
      "2009-12-03  20.030001  20.030001  20.030001  20.030001     0.0  17.757137   \n",
      "2009-12-04  19.990000  19.990000  19.990000  19.990000     0.0  17.721689   \n",
      "2009-12-07  20.020000  20.020000  20.020000  20.020000     0.0  17.748283   \n",
      "2009-12-08  20.030001  20.030001  20.030001  20.030001     0.0  17.757137   \n",
      "2009-12-09  20.030001  20.030001  20.030001  20.030001     0.0  17.757137   \n",
      "2009-12-10  20.020000  20.020000  20.020000  20.020000     0.0  17.748283   \n",
      "2009-12-11  20.000000  20.000000  20.000000  20.000000     0.0  17.730528   \n",
      "2009-12-14  19.990000  19.990000  19.990000  19.990000     0.0  17.721689   \n",
      "2009-12-15  19.990000  19.990000  19.990000  19.990000     0.0  17.721689   \n",
      "2009-12-16  20.000000  20.000000  20.000000  20.000000     0.0  17.730528   \n",
      "2009-12-17  20.030001  20.030001  20.030001  20.030001     0.0  17.757137   \n",
      "2009-12-18  20.010000  20.010000  20.010000  20.010000     0.0  17.739416   \n",
      "2009-12-21  19.980000  19.980000  19.980000  19.980000     0.0  17.712828   \n",
      "\n",
      "            Ret_Index  \n",
      "Date                   \n",
      "2009-11-23   1.000000  \n",
      "2009-11-24   1.000500  \n",
      "2009-11-25   1.000999  \n",
      "2009-11-27   1.001499  \n",
      "2009-11-30   1.001998  \n",
      "2009-12-01   1.001998  \n",
      "2009-12-02   1.001499  \n",
      "2009-12-03   1.000999  \n",
      "2009-12-04   0.999001  \n",
      "2009-12-07   1.000500  \n",
      "2009-12-08   1.000999  \n",
      "2009-12-09   1.000999  \n",
      "2009-12-10   1.000500  \n",
      "2009-12-11   0.999499  \n",
      "2009-12-14   0.999001  \n",
      "2009-12-15   0.999001  \n",
      "2009-12-16   0.999499  \n",
      "2009-12-17   1.000999  \n",
      "2009-12-18   1.000000  \n",
      "2009-12-21   0.998501  \n",
      "save_data ------ saving data\\VSBSX.csv\n",
      "---- symbol_df ----\n",
      "         Date       High        Low       Open      Close  Volume  Adj Close  \\\n",
      "0  2009-11-23  20.010000  20.010000  20.010000  20.010000     0.0  17.739416   \n",
      "1  2009-11-24  20.020000  20.020000  20.020000  20.020000     0.0  17.748283   \n",
      "2  2009-11-25  20.030001  20.030001  20.030001  20.030001     0.0  17.757137   \n",
      "3  2009-11-27  20.040001  20.040001  20.040001  20.040001     0.0  17.766010   \n",
      "4  2009-11-30  20.049999  20.049999  20.049999  20.049999     0.0  17.774868   \n",
      "\n",
      "   Ret_Index  \n",
      "0   1.000000  \n",
      "1   1.000500  \n",
      "2   1.000999  \n",
      "3   1.001499  \n",
      "4   1.001998  \n",
      "            Date   High    Low   Open  Close  Volume  Adj Close  Ret_Index\n",
      "3215  2022-09-01  19.48  19.48  19.48  19.48     0.0      19.48   1.098120\n",
      "3216  2022-09-02  19.52  19.52  19.52  19.52     0.0      19.52   1.100374\n",
      "3217  2022-09-06  19.49  19.49  19.49  19.49     0.0      19.49   1.098683\n",
      "3218  2022-09-07  19.51  19.51  19.51  19.51     0.0      19.51   1.099811\n",
      "3219  2022-09-08  19.49  19.49  19.49  19.49     0.0      19.49   1.098683\n"
     ]
    }
   ],
   "source": [
    "ticker = 'VSBSX'\n",
    "\n",
    "df = load_data(ticker, set_index=False, index_column='')"
   ]
  },
  {
   "cell_type": "code",
   "execution_count": 3,
   "id": "90689517-4b33-4c4b-867f-940eb82f08ef",
   "metadata": {},
   "outputs": [
    {
     "data": {
      "text/plain": [
       "True"
      ]
     },
     "execution_count": 3,
     "metadata": {},
     "output_type": "execute_result"
    }
   ],
   "source": [
    "DEBUG"
   ]
  },
  {
   "cell_type": "code",
   "execution_count": null,
   "id": "1e29487e-0818-4a62-ac68-9708ec25bca6",
   "metadata": {},
   "outputs": [],
   "source": []
  }
 ],
 "metadata": {
  "kernelspec": {
   "display_name": "Python 3 (ipykernel)",
   "language": "python",
   "name": "python3"
  },
  "language_info": {
   "codemirror_mode": {
    "name": "ipython",
    "version": 3
   },
   "file_extension": ".py",
   "mimetype": "text/x-python",
   "name": "python",
   "nbconvert_exporter": "python",
   "pygments_lexer": "ipython3",
   "version": "3.7.13"
  }
 },
 "nbformat": 4,
 "nbformat_minor": 5
}
