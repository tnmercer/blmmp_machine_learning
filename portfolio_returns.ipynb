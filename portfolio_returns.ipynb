{
 "cells": [
  {
   "cell_type": "code",
   "execution_count": 13,
   "id": "1981b1bd-8aea-4891-8772-2131e5675a8e",
   "metadata": {},
   "outputs": [],
   "source": [
    "# Import libraries\n",
    "import pandas as pd\n",
    "import pickle\n",
    "from pathlib import Path\n",
    "from datetime import date\n"
   ]
  },
  {
   "cell_type": "code",
   "execution_count": 2,
   "id": "f658a762-d3f5-4f51-a4b8-796905b2fb44",
   "metadata": {},
   "outputs": [
    {
     "ename": "NameError",
     "evalue": "name 'all_funds_df' is not defined",
     "output_type": "error",
     "traceback": [
      "\u001b[1;31m---------------------------------------------------------------------------\u001b[0m",
      "\u001b[1;31mNameError\u001b[0m                                 Traceback (most recent call last)",
      "\u001b[1;32m~\\AppData\\Local\\Temp\\ipykernel_724400\\3680648550.py\u001b[0m in \u001b[0;36m<module>\u001b[1;34m\u001b[0m\n\u001b[0;32m      1\u001b[0m \u001b[1;31m# Convert month end prices to monthly percentage change and drop na values\u001b[0m\u001b[1;33m\u001b[0m\u001b[1;33m\u001b[0m\u001b[1;33m\u001b[0m\u001b[0m\n\u001b[0;32m      2\u001b[0m \u001b[1;33m\u001b[0m\u001b[0m\n\u001b[1;32m----> 3\u001b[1;33m \u001b[0mall_funds_df\u001b[0m \u001b[1;33m=\u001b[0m \u001b[0mall_funds_df\u001b[0m\u001b[1;33m.\u001b[0m\u001b[0mpct_change\u001b[0m\u001b[1;33m(\u001b[0m\u001b[1;33m)\u001b[0m\u001b[1;33m.\u001b[0m\u001b[0mdropna\u001b[0m\u001b[1;33m(\u001b[0m\u001b[1;33m)\u001b[0m\u001b[1;33m\u001b[0m\u001b[1;33m\u001b[0m\u001b[0m\n\u001b[0m",
      "\u001b[1;31mNameError\u001b[0m: name 'all_funds_df' is not defined"
     ]
    }
   ],
   "source": [
    "\n",
    "\n",
    "# Convert month end prices to monthly percentage change and drop na values\n",
    "\n",
    "#all_funds_df = all_funds_df.pct_change().dropna()"
   ]
  },
  {
   "cell_type": "code",
   "execution_count": 3,
   "id": "7c8b677d-71cb-4aa6-8f2d-18faddbfa1c8",
   "metadata": {},
   "outputs": [],
   "source": [
    "#all_funds_df.tail()"
   ]
  },
  {
   "cell_type": "code",
   "execution_count": null,
   "id": "365c7089-6bea-498a-974b-add7dd385cab",
   "metadata": {},
   "outputs": [],
   "source": []
  },
  {
   "cell_type": "code",
   "execution_count": 4,
   "id": "3c4b71c8-4ace-4146-a62d-0164e3e96a70",
   "metadata": {},
   "outputs": [
    {
     "data": {
      "text/plain": [
       "' fidelity_index_focused_models\\n\\nparameters (from ML model)- investment_amount, investment_date\\n\\nTransactions dataframe from start date to today with pct change for relevant funds\\n\\nInvesting/Rebalancing function\\n\\nYEAR 1\\nyear start date - lookup annual contribution amount / investment amount (for ML model, this will be 1, 2, or 3 month of contributions), \\ndivide by portfolio weights and create row 1\\n\\nfor each row in range of other df \\ncumulative return until next 01-01\\n\\nif date = 01-01\\n\\nlookup balance at previous day\\nlookup and add contribution limit \\n\\ntotal divide by asset allocation (FOR ML this happens every month or investment date)\\n\\nreplace row with new amounts\\n\\nCreate a starting code then a loop through the months?\\n\\n# Set starting values for 2012 based on weight\\nportfolio_start = \\n\\n# Check total = 100\\nportfolio_sum = portfolio_start.sum()\\nprint(f\"Calcalation check: The portfolio starting value is ${portfolio_sum}.\")\\n\\n# Create new dataframe for 2012 return calc using the 2012 start values\\nportfolio_return_2015 = pd.DataFrame(portfolio_start_2015)\\nportfolio_return_2015 = portfolio_return_2015.transpose()\\n\\n# Rename weighted value index to start date 01-01-2015\\nportfolio_return_2015 = portfolio_return_2015.reset_index(drop=True)\\nportfolio_return_2015 = portfolio_return_2015.rename(index={0:\\'2015-01-01\\'})\\n\\n# Append the all_etf_df monthly returns\\nportfolio_return_2015 = portfolio_return_2015.append(all_etf_df.loc[\\'2015-02-01\\':\\'2015-12-31\\']).sort_index()\\n\\n# Calculate cumulative return and drop na row\\nportfolio_return_2015 = (1 + portfolio_return_2015.shift(1)).cumprod().dropna(how=\\'all\\')\\n\\n# Drop ETFs not included in portfolio for 2015\\nportfolio_return_2015 = portfolio_return_2015.dropna(axis=1)\\n\\n# Combine return for portfolio \\nportfolio_return_2015 = portfolio_return_2015.sum(axis=1)\\n\\n# Review the Series\\nportfolio_return_2015\\n'"
      ]
     },
     "execution_count": 4,
     "metadata": {},
     "output_type": "execute_result"
    }
   ],
   "source": [
    "\"\"\" fidelity_index_focused_models\n",
    "\n",
    "parameters (from ML model)- investment_amount, investment_date\n",
    "\n",
    "Transactions dataframe from start date to today with pct change for relevant funds\n",
    "\n",
    "Investing/Rebalancing function\n",
    "\n",
    "YEAR 1\n",
    "year start date - lookup annual contribution amount / investment amount (for ML model, this will be 1, 2, or 3 month of contributions), \n",
    "divide by portfolio weights and create row 1\n",
    "\n",
    "for each row in range of other df \n",
    "cumulative return until next 01-01\n",
    "\n",
    "if date = 01-01\n",
    "\n",
    "lookup balance at previous day\n",
    "lookup and add contribution limit \n",
    "\n",
    "total divide by asset allocation (FOR ML this happens every month or investment date)\n",
    "\n",
    "replace row with new amounts\n",
    "\n",
    "Create a starting code then a loop through the months?\n",
    "\n",
    "# Set starting values for 2012 based on weight\n",
    "portfolio_start = \n",
    "\n",
    "# Check total = 100\n",
    "portfolio_sum = portfolio_start.sum()\n",
    "print(f\"Calcalation check: The portfolio starting value is ${portfolio_sum}.\")\n",
    "\n",
    "# Create new dataframe for 2012 return calc using the 2012 start values\n",
    "portfolio_return_2015 = pd.DataFrame(portfolio_start_2015)\n",
    "portfolio_return_2015 = portfolio_return_2015.transpose()\n",
    "\n",
    "# Rename weighted value index to start date 01-01-2015\n",
    "portfolio_return_2015 = portfolio_return_2015.reset_index(drop=True)\n",
    "portfolio_return_2015 = portfolio_return_2015.rename(index={0:'2015-01-01'})\n",
    "\n",
    "# Append the all_etf_df monthly returns\n",
    "portfolio_return_2015 = portfolio_return_2015.append(all_etf_df.loc['2015-02-01':'2015-12-31']).sort_index()\n",
    "\n",
    "# Calculate cumulative return and drop na row\n",
    "portfolio_return_2015 = (1 + portfolio_return_2015.shift(1)).cumprod().dropna(how='all')\n",
    "\n",
    "# Drop ETFs not included in portfolio for 2015\n",
    "portfolio_return_2015 = portfolio_return_2015.dropna(axis=1)\n",
    "\n",
    "# Combine return for portfolio \n",
    "portfolio_return_2015 = portfolio_return_2015.sum(axis=1)\n",
    "\n",
    "# Review the Series\n",
    "portfolio_return_2015\n",
    "\"\"\"\n"
   ]
  },
  {
   "cell_type": "code",
   "execution_count": 8,
   "id": "a81441c4-187d-4a95-b50e-73f7d1bf5c48",
   "metadata": {},
   "outputs": [
    {
     "data": {
      "text/html": [
       "<div>\n",
       "<style scoped>\n",
       "    .dataframe tbody tr th:only-of-type {\n",
       "        vertical-align: middle;\n",
       "    }\n",
       "\n",
       "    .dataframe tbody tr th {\n",
       "        vertical-align: top;\n",
       "    }\n",
       "\n",
       "    .dataframe thead tr th {\n",
       "        text-align: left;\n",
       "    }\n",
       "</style>\n",
       "<table border=\"1\" class=\"dataframe\">\n",
       "  <thead>\n",
       "    <tr>\n",
       "      <th></th>\n",
       "      <th>FXAIX</th>\n",
       "      <th>FSMDX</th>\n",
       "      <th>FSSNX</th>\n",
       "      <th>FSGGX</th>\n",
       "      <th>FXNAX</th>\n",
       "      <th>FCONX</th>\n",
       "      <th>BIL</th>\n",
       "    </tr>\n",
       "  </thead>\n",
       "  <tbody>\n",
       "    <tr>\n",
       "      <th>2013-01-01</th>\n",
       "      <td>700.0</td>\n",
       "      <td>60.0</td>\n",
       "      <td>80.0</td>\n",
       "      <td>360.0</td>\n",
       "      <td>700.0</td>\n",
       "      <td>60.0</td>\n",
       "      <td>40.0</td>\n",
       "    </tr>\n",
       "  </tbody>\n",
       "</table>\n",
       "</div>"
      ],
      "text/plain": [
       "            FXAIX FSMDX FSSNX  FSGGX  FXNAX FCONX   BIL\n",
       "2013-01-01  700.0  60.0  80.0  360.0  700.0  60.0  40.0"
      ]
     },
     "metadata": {},
     "output_type": "display_data"
    },
    {
     "data": {
      "text/plain": [
       "'The holding account balance is now $3500.'"
      ]
     },
     "metadata": {},
     "output_type": "display_data"
    }
   ],
   "source": [
    "# This function sets up the new holding account with a starting balance of the IRA contribution amount for the year\n",
    "# This function also creates an investment account with a portfolio attached for investment and rebalancing\n",
    "\n",
    "# Data start date 2012-01-01\n",
    "\n",
    "portfolio_investment_start_date = '2013-01-01'\n",
    "\n",
    "portfolio_selection = 'fidelity_index_focused_models'\n",
    "\n",
    "# Read in portfolio data from pkl file\n",
    "\n",
    "pkl_file = open(Path(f\"./Resources/{portfolio_selection}.pkl\"), 'rb')\n",
    "dataframe = pickle.load(pkl_file)\n",
    "pkl_file.close()\n",
    "\n",
    "# create new account with the portfolio asset allocation as the started 'balance'\n",
    "new_account = dataframe\n",
    "\n",
    "# Read in ira contribution data from pkl file\n",
    "\n",
    "pkl_file = open(Path(f\"./Resources/ira_contribution_limits.pkl\"), 'rb')\n",
    "dataframe = pickle.load(pkl_file)\n",
    "pkl_file.close()\n",
    "\n",
    "# Locate the contribution limit for the portfolio start date\n",
    "ira_contribution = dataframe.loc[portfolio_investment_start_date]['ira_limit'][0]\n",
    "\n",
    "# Fund a new holding account with the ira_contribution amount for the year\n",
    "holding_account = ira_contribution\n",
    "\n",
    "# This amount will be fed in from the ML model\n",
    "investment_amount = 2000\n",
    "\n",
    "# Validate investment amount and update holding account balance\n",
    "if investment_amount <= holding_account:\n",
    "    # update holding account balance\n",
    "    holding_account = holding_account - investment_amount\n",
    "    validated_amount = investment_amount\n",
    "    \n",
    "else: \n",
    "    validated_amount = holding_account\n",
    "    holding_account = 0\n",
    "\n",
    "new_account = round(validated_amount * new_account/100, 2)\n",
    "display(new_account)\n",
    "display(f'The holding account balance is now ${holding_account}.')"
   ]
  },
  {
   "cell_type": "code",
   "execution_count": 91,
   "id": "fc168d60-ad5a-40f0-9455-61e93ba584b6",
   "metadata": {},
   "outputs": [
    {
     "data": {
      "text/html": [
       "<div>\n",
       "<style scoped>\n",
       "    .dataframe tbody tr th:only-of-type {\n",
       "        vertical-align: middle;\n",
       "    }\n",
       "\n",
       "    .dataframe tbody tr th {\n",
       "        vertical-align: top;\n",
       "    }\n",
       "\n",
       "    .dataframe thead th {\n",
       "        text-align: right;\n",
       "    }\n",
       "</style>\n",
       "<table border=\"1\" class=\"dataframe\">\n",
       "  <thead>\n",
       "    <tr style=\"text-align: right;\">\n",
       "      <th></th>\n",
       "      <th>Amount</th>\n",
       "    </tr>\n",
       "  </thead>\n",
       "  <tbody>\n",
       "    <tr>\n",
       "      <th>2013-06-01</th>\n",
       "      <td>458.33</td>\n",
       "    </tr>\n",
       "    <tr>\n",
       "      <th>2013-08-01</th>\n",
       "      <td>1375.00</td>\n",
       "    </tr>\n",
       "  </tbody>\n",
       "</table>\n",
       "</div>"
      ],
      "text/plain": [
       "             Amount\n",
       "2013-06-01   458.33\n",
       "2013-08-01  1375.00"
      ]
     },
     "execution_count": 91,
     "metadata": {},
     "output_type": "execute_result"
    }
   ],
   "source": [
    "# Maintenance of account\n",
    "# append day by day performance\n",
    "# trigger contribution dates to top up by investment_amount and rebalance\n",
    "\n",
    "# This function aggregates the portfolio value by the fund return amount,\n",
    "# unless a contribution is made.\n",
    "# If a contribution is made, the amount is added to the portfolio and the portfolio is rebalanced back to target weights\n",
    "\n",
    "today = date.today()\n",
    "\n",
    "# Dummy data for investment dates\n",
    "investment_dates = pd.DataFrame(\n",
    "    index=['2013-06-01','2013-08-01'],\n",
    "    data=[1,3],\n",
    "    columns=['# Investment Months']\n",
    ")\n",
    "\n",
    "\n",
    "# Note - freq 'MS' = month start\n",
    "\n",
    "# create investment date range\n",
    "inv_date_range = pd.date_range(start=portfolio_investment_start_date,end=today, freq='D').tolist()\n",
    "\n",
    "# pull dates from timestamp and convert to list\n",
    "inv_date_range = [i.strftime('%Y-%m-%d') for i in inv_date_range]\n",
    "\n",
    "# for each day from portfolio start until investment date\n",
    "# append row, lookup fund return & multiply by shift(1)\n",
    "\n",
    "transactions_df = pd.DataFrame(columns=['Amount'])\n",
    "\n",
    "for day in inv_date_range:\n",
    "    try:\n",
    "        # Look up investment dates df and return the number of months of investment\n",
    "        if investment_dates.loc[day][0]:\n",
    "            investment_amount = round(investment_dates.loc[day][0] * (ira_contribution / 12), 2)\n",
    "            df = pd.DataFrame(index = [day], data = [investment_amount], columns = ['Amount'])\n",
    "            transactions_df = transactions_df.append(df, ignore_index=False)\n",
    "            # append row to new_account df\n",
    "            # create separate function to rebalance?\n",
    "    except:\n",
    "        # If not an investment date, look up the return for that day\n",
    "        # increase fund value by return\n",
    "        pass\n",
    "        \n",
    "transactions_df\n"
   ]
  },
  {
   "cell_type": "code",
   "execution_count": null,
   "id": "542a8d84-2ef4-482d-84b5-55741cd5a86f",
   "metadata": {},
   "outputs": [],
   "source": []
  }
 ],
 "metadata": {
  "kernelspec": {
   "display_name": "Python 3 (ipykernel)",
   "language": "python",
   "name": "python3"
  },
  "language_info": {
   "codemirror_mode": {
    "name": "ipython",
    "version": 3
   },
   "file_extension": ".py",
   "mimetype": "text/x-python",
   "name": "python",
   "nbconvert_exporter": "python",
   "pygments_lexer": "ipython3",
   "version": "3.7.13"
  }
 },
 "nbformat": 4,
 "nbformat_minor": 5
}
