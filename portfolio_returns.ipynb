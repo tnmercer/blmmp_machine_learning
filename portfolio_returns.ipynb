{
 "cells": [
  {
   "cell_type": "code",
   "execution_count": 1,
   "id": "1981b1bd-8aea-4891-8772-2131e5675a8e",
   "metadata": {},
   "outputs": [],
   "source": [
    "# Import libraries\n",
    "import pandas as pd\n",
    "from pandas.tseries.offsets import BDay\n",
    "import pickle\n",
    "from pathlib import Path\n",
    "from datetime import date\n",
    "from utils import *\n"
   ]
  },
  {
   "cell_type": "code",
   "execution_count": 2,
   "id": "7122d9a4-f7b0-46fc-b958-bee86c679e84",
   "metadata": {},
   "outputs": [],
   "source": [
    "# DATE CHANGES - IN IRA LIMIT FILE OFFSET TO BDAYS & DO THE SAME FOR ANY INCOMING INVESTMENT DATES"
   ]
  },
  {
   "cell_type": "code",
   "execution_count": 3,
   "id": "38f6f84b-abef-43a2-b997-93395108a189",
   "metadata": {},
   "outputs": [],
   "source": [
    "# This is the information to be fed from the application\n",
    "\n",
    "# Dummy data for investment dates\n",
    "investment_dates = pd.DataFrame(\n",
    "    index=['2013-06-03','2013-08-01'],\n",
    "    data=[1,3],\n",
    "    columns=['months_to_invest']\n",
    ")\n",
    "\n",
    "investment_dates.index = pd.to_datetime(investment_dates.index)"
   ]
  },
  {
   "cell_type": "code",
   "execution_count": 4,
   "id": "0b8c888d-d807-49c0-b136-dc3a222c28b3",
   "metadata": {},
   "outputs": [
    {
     "data": {
      "text/plain": [
       "'The portfolio start datetime is 2013-06-03 00:00:00 and the first investment date is 2013-06-03 00:00:00'"
      ]
     },
     "execution_count": 4,
     "metadata": {},
     "output_type": "execute_result"
    }
   ],
   "source": [
    "# Set the start date of the investment account\n",
    "portfolio_investment_start_date = pd.Timestamp(investment_dates.index[0])\n",
    "\n",
    "next_transaction = investment_dates[:].loc[investment_dates.months_to_invest>0, 'months_to_invest'].index[0]\n",
    "next_transaction = pd.Timestamp(next_transaction)\n",
    "\n",
    "f'The portfolio start datetime is {portfolio_investment_start_date} and the first investment date is {next_transaction}'\n"
   ]
  },
  {
   "cell_type": "code",
   "execution_count": 5,
   "id": "a81441c4-187d-4a95-b50e-73f7d1bf5c48",
   "metadata": {},
   "outputs": [
    {
     "data": {
      "text/plain": [
       "'fidelity_index_focused_models has been attached to the new investment account.'"
      ]
     },
     "metadata": {},
     "output_type": "display_data"
    },
    {
     "data": {
      "text/plain": [
       "'The portfolio asset allocation is:'"
      ]
     },
     "metadata": {},
     "output_type": "display_data"
    },
    {
     "data": {
      "text/html": [
       "<div>\n",
       "<style scoped>\n",
       "    .dataframe tbody tr th:only-of-type {\n",
       "        vertical-align: middle;\n",
       "    }\n",
       "\n",
       "    .dataframe tbody tr th {\n",
       "        vertical-align: top;\n",
       "    }\n",
       "\n",
       "    .dataframe thead th {\n",
       "        text-align: right;\n",
       "    }\n",
       "</style>\n",
       "<table border=\"1\" class=\"dataframe\">\n",
       "  <thead>\n",
       "    <tr style=\"text-align: right;\">\n",
       "      <th></th>\n",
       "      <th>FXAIX</th>\n",
       "      <th>FSMDX</th>\n",
       "      <th>FSSNX</th>\n",
       "      <th>FSGGX</th>\n",
       "      <th>FXNAX</th>\n",
       "      <th>FCONX</th>\n",
       "      <th>BIL</th>\n",
       "    </tr>\n",
       "  </thead>\n",
       "  <tbody>\n",
       "    <tr>\n",
       "      <th>0</th>\n",
       "      <td>35</td>\n",
       "      <td>3</td>\n",
       "      <td>4</td>\n",
       "      <td>18</td>\n",
       "      <td>35</td>\n",
       "      <td>3</td>\n",
       "      <td>2</td>\n",
       "    </tr>\n",
       "  </tbody>\n",
       "</table>\n",
       "</div>"
      ],
      "text/plain": [
       "   FXAIX  FSMDX  FSSNX  FSGGX  FXNAX  FCONX  BIL\n",
       "0     35      3      4     18     35      3    2"
      ]
     },
     "metadata": {},
     "output_type": "display_data"
    },
    {
     "data": {
      "text/plain": [
       "'The holding account balance is $0.'"
      ]
     },
     "metadata": {},
     "output_type": "display_data"
    }
   ],
   "source": [
    "# This function sets up the new holding account for the IRA contribution amount to be held until contribution date(s) \n",
    "# This function also creates an investment account with a portfolio attached for investment and rebalancing\n",
    "\n",
    "# Select the portfolio to be invested in\n",
    "# Options are fidelity_index_focused_models, betterment, rick_ferris_core and vanguard_total_stock_etf\n",
    "portfolio_selection = 'fidelity_index_focused_models'\n",
    "\n",
    "# Read in portfolio data from pkl file\n",
    "pkl_file = open(Path(f\"./Resources/{portfolio_selection}.pkl\"), 'rb')\n",
    "dataframe = pickle.load(pkl_file)\n",
    "pkl_file.close()\n",
    "\n",
    "# create portfolio allocation df for future rebalancing\n",
    "portfolio_weights = dataframe\n",
    "\n",
    "# create new investment account with the portfolio funds as columns\n",
    "investment_account = pd.DataFrame(columns=dataframe.columns.values)\n",
    "\n",
    "# Create a new holding account \n",
    "holding_account = 0\n",
    "\n",
    "\n",
    "display(f'{portfolio_selection} has been attached to the new investment account.')\n",
    "display('The portfolio asset allocation is:')\n",
    "display(portfolio_weights)\n",
    "display(f'The holding account balance is ${holding_account}.')"
   ]
  },
  {
   "cell_type": "code",
   "execution_count": 6,
   "id": "890799e9-78c5-4028-ba23-06c22ef236bb",
   "metadata": {},
   "outputs": [
    {
     "data": {
      "text/plain": [
       "'The holding account now has a balance of $5500'"
      ]
     },
     "execution_count": 6,
     "metadata": {},
     "output_type": "execute_result"
    }
   ],
   "source": [
    "# Read in ira contribution data from pkl file\n",
    "\n",
    "pkl_file = open(Path(f\"./Resources/ira_contribution_limits.pkl\"), 'rb')\n",
    "dataframe = pickle.load(pkl_file)\n",
    "pkl_file.close()\n",
    "\n",
    "# Locate the contribution limit for the portfolio start date\n",
    "year = str(portfolio_investment_start_date.year)\n",
    "ira_contribution = dataframe.loc[year]['ira_limit'][0]\n",
    "\n",
    "# Fund the holding account with the annual contribution for the year\n",
    "holding_account = ira_contribution\n",
    "\n",
    "f'The holding account now has a balance of ${holding_account}'"
   ]
  },
  {
   "cell_type": "code",
   "execution_count": 7,
   "id": "8b8557c1-1f62-450d-9b76-e768f9fb9f1e",
   "metadata": {},
   "outputs": [
    {
     "data": {
      "text/html": [
       "<div>\n",
       "<style scoped>\n",
       "    .dataframe tbody tr th:only-of-type {\n",
       "        vertical-align: middle;\n",
       "    }\n",
       "\n",
       "    .dataframe tbody tr th {\n",
       "        vertical-align: top;\n",
       "    }\n",
       "\n",
       "    .dataframe thead th {\n",
       "        text-align: right;\n",
       "    }\n",
       "</style>\n",
       "<table border=\"1\" class=\"dataframe\">\n",
       "  <thead>\n",
       "    <tr style=\"text-align: right;\">\n",
       "      <th></th>\n",
       "      <th>FXAIX</th>\n",
       "      <th>FSMDX</th>\n",
       "      <th>FSSNX</th>\n",
       "      <th>FSGGX</th>\n",
       "      <th>FXNAX</th>\n",
       "      <th>FCONX</th>\n",
       "      <th>BIL</th>\n",
       "    </tr>\n",
       "    <tr>\n",
       "      <th>Date</th>\n",
       "      <th></th>\n",
       "      <th></th>\n",
       "      <th></th>\n",
       "      <th></th>\n",
       "      <th></th>\n",
       "      <th></th>\n",
       "      <th></th>\n",
       "    </tr>\n",
       "  </thead>\n",
       "  <tbody>\n",
       "    <tr>\n",
       "      <th>2011-09-12</th>\n",
       "      <td>0.006826</td>\n",
       "      <td>0.005139</td>\n",
       "      <td>0.008247</td>\n",
       "      <td>-0.021627</td>\n",
       "      <td>-0.002532</td>\n",
       "      <td>0.0</td>\n",
       "      <td>0.000000</td>\n",
       "    </tr>\n",
       "    <tr>\n",
       "      <th>2011-09-13</th>\n",
       "      <td>0.009443</td>\n",
       "      <td>0.014315</td>\n",
       "      <td>0.018405</td>\n",
       "      <td>0.007368</td>\n",
       "      <td>-0.001692</td>\n",
       "      <td>0.0</td>\n",
       "      <td>-0.000218</td>\n",
       "    </tr>\n",
       "  </tbody>\n",
       "</table>\n",
       "</div>"
      ],
      "text/plain": [
       "               FXAIX     FSMDX     FSSNX     FSGGX     FXNAX  FCONX       BIL\n",
       "Date                                                                         \n",
       "2011-09-12  0.006826  0.005139  0.008247 -0.021627 -0.002532    0.0  0.000000\n",
       "2011-09-13  0.009443  0.014315  0.018405  0.007368 -0.001692    0.0 -0.000218"
      ]
     },
     "metadata": {},
     "output_type": "display_data"
    },
    {
     "data": {
      "text/html": [
       "<div>\n",
       "<style scoped>\n",
       "    .dataframe tbody tr th:only-of-type {\n",
       "        vertical-align: middle;\n",
       "    }\n",
       "\n",
       "    .dataframe tbody tr th {\n",
       "        vertical-align: top;\n",
       "    }\n",
       "\n",
       "    .dataframe thead th {\n",
       "        text-align: right;\n",
       "    }\n",
       "</style>\n",
       "<table border=\"1\" class=\"dataframe\">\n",
       "  <thead>\n",
       "    <tr style=\"text-align: right;\">\n",
       "      <th></th>\n",
       "      <th>FXAIX</th>\n",
       "      <th>FSMDX</th>\n",
       "      <th>FSSNX</th>\n",
       "      <th>FSGGX</th>\n",
       "      <th>FXNAX</th>\n",
       "      <th>FCONX</th>\n",
       "      <th>BIL</th>\n",
       "    </tr>\n",
       "    <tr>\n",
       "      <th>Date</th>\n",
       "      <th></th>\n",
       "      <th></th>\n",
       "      <th></th>\n",
       "      <th></th>\n",
       "      <th></th>\n",
       "      <th></th>\n",
       "      <th></th>\n",
       "    </tr>\n",
       "  </thead>\n",
       "  <tbody>\n",
       "    <tr>\n",
       "      <th>2022-09-07</th>\n",
       "      <td>0.018380</td>\n",
       "      <td>0.023345</td>\n",
       "      <td>0.022042</td>\n",
       "      <td>0.006584</td>\n",
       "      <td>0.005753</td>\n",
       "      <td>0.0</td>\n",
       "      <td>0.000109</td>\n",
       "    </tr>\n",
       "    <tr>\n",
       "      <th>2022-09-08</th>\n",
       "      <td>0.006714</td>\n",
       "      <td>0.010097</td>\n",
       "      <td>0.008363</td>\n",
       "      <td>0.001635</td>\n",
       "      <td>-0.003813</td>\n",
       "      <td>0.0</td>\n",
       "      <td>0.000219</td>\n",
       "    </tr>\n",
       "  </tbody>\n",
       "</table>\n",
       "</div>"
      ],
      "text/plain": [
       "               FXAIX     FSMDX     FSSNX     FSGGX     FXNAX  FCONX       BIL\n",
       "Date                                                                         \n",
       "2022-09-07  0.018380  0.023345  0.022042  0.006584  0.005753    0.0  0.000109\n",
       "2022-09-08  0.006714  0.010097  0.008363  0.001635 -0.003813    0.0  0.000219"
      ]
     },
     "metadata": {},
     "output_type": "display_data"
    }
   ],
   "source": [
    "# Create a dataframe of portfolio returns for the selected portfolio\n",
    "\n",
    "portfolio_returns = pd.DataFrame()\n",
    "\n",
    "for key in investment_account.keys():\n",
    "    # Create dataframe from CSV file\n",
    "    df = pd.read_csv(f\"./data/{key}.csv\")\n",
    "\n",
    "    # Drop columns and set date index for concat\n",
    "    df = df[['Date','Close']].set_index('Date')\n",
    "    df.index = pd.to_datetime(df.index)\n",
    "\n",
    "    # Rename columns to Ticker\n",
    "    df = df.rename(columns={'Close':key})\n",
    "    \n",
    "    # Change Close to return\n",
    "    df = df.pct_change()\n",
    "    \n",
    "    # Concat to empty dataframe\n",
    "    portfolio_returns = pd.concat([portfolio_returns, df], axis=1)\n",
    "        \n",
    "# drop na values \n",
    "portfolio_returns = portfolio_returns.dropna()\n",
    "\n",
    "# review\n",
    "display(portfolio_returns.head(2))\n",
    "display(portfolio_returns.tail(2))\n"
   ]
  },
  {
   "cell_type": "code",
   "execution_count": 8,
   "id": "d40e4618-26f1-457f-aa8e-6de247fcfd6d",
   "metadata": {},
   "outputs": [],
   "source": [
    "# Fund the investment account\n",
    "\n",
    "def transact(date):\n",
    "    global holding_account\n",
    "    # Validate date\n",
    "    if investment_dates.loc[date]['months_to_invest'] > 0:\n",
    "        # Set the next transaction\n",
    "        next_transaction = date\n",
    "        \n",
    "        debug_print(f'ira contr = {ira_contribution}')\n",
    "\n",
    "        # Calculate the transaction amount (number of months to invest multiplied by annual ira contribution, divided equally into months)\n",
    "        trans_amt = round(investment_dates.loc[next_transaction]['months_to_invest'] * (ira_contribution / 12), 2)\n",
    "\n",
    "        # Validate investment amount and update holding account balance \n",
    "        debug_print(f'holding account: {holding_account}')\n",
    "        if trans_amt <= holding_account:\n",
    "            # update holding account balance\n",
    "            holding_account = holding_account - trans_amt\n",
    "            validated_amount = trans_amt\n",
    "\n",
    "        else: \n",
    "            validated_amount = holding_account\n",
    "            holding_account = 0\n",
    "            \n",
    "            ## Add zero option to hold rebalance\n",
    "\n",
    "        # Divide the amount by the portfolio weightings and apply to investment account\n",
    "        try:\n",
    "            investment_account.loc[next_transaction] = (investment_account.iloc[-1].sum() + validated_amount) * portfolio_weights.iloc[0].values /100\n",
    "        except:\n",
    "            investment_account.loc[next_transaction] = validated_amount * portfolio_weights.iloc[0].values /100\n",
    "\n",
    "        # Can these amounts be rounded to 2dp as they are loaded?\n",
    "\n",
    "        # Update the last transaction date\n",
    "        last_transaction_date = next_transaction\n",
    "\n",
    "        day_after_last_trans_idx = investment_dates.index.get_loc(last_transaction_date) +1\n",
    "\n",
    "        # Update the next transaction\n",
    "        next_transaction = investment_dates[day_after_last_trans_idx:].loc[investment_dates.months_to_invest>0, 'months_to_invest'].index[0]\n",
    "        next_transaction = pd.Timestamp(next_transaction)\n",
    "\n",
    "        return next_transaction\n",
    "\n",
    "    else:\n",
    "        print('transaction does not exist')\n",
    "        \n"
   ]
  },
  {
   "cell_type": "code",
   "execution_count": 9,
   "id": "84e2d740-97d0-4809-89a9-7370ed562687",
   "metadata": {},
   "outputs": [
    {
     "name": "stdout",
     "output_type": "stream",
     "text": [
      "ira contr = 5500\n",
      "holding account: 5500\n"
     ]
    },
    {
     "ename": "KeyError",
     "evalue": "Timestamp('2013-06-04 00:00:00', freq='B')",
     "output_type": "error",
     "traceback": [
      "\u001b[1;31m---------------------------------------------------------------------------\u001b[0m",
      "\u001b[1;31mKeyError\u001b[0m                                  Traceback (most recent call last)",
      "\u001b[1;32m~\\anaconda3\\envs\\dev\\lib\\site-packages\\pandas\\_libs\\index.pyx\u001b[0m in \u001b[0;36mpandas._libs.index.DatetimeEngine.get_loc\u001b[1;34m()\u001b[0m\n",
      "\u001b[1;32mpandas\\_libs\\hashtable_class_helper.pxi\u001b[0m in \u001b[0;36mpandas._libs.hashtable.Int64HashTable.get_item\u001b[1;34m()\u001b[0m\n",
      "\u001b[1;32mpandas\\_libs\\hashtable_class_helper.pxi\u001b[0m in \u001b[0;36mpandas._libs.hashtable.Int64HashTable.get_item\u001b[1;34m()\u001b[0m\n",
      "\u001b[1;31mKeyError\u001b[0m: 1370304000000000000",
      "\nDuring handling of the above exception, another exception occurred:\n",
      "\u001b[1;31mKeyError\u001b[0m                                  Traceback (most recent call last)",
      "\u001b[1;32m~\\anaconda3\\envs\\dev\\lib\\site-packages\\pandas\\core\\indexes\\base.py\u001b[0m in \u001b[0;36mget_loc\u001b[1;34m(self, key, method, tolerance)\u001b[0m\n\u001b[0;32m   3360\u001b[0m             \u001b[1;32mtry\u001b[0m\u001b[1;33m:\u001b[0m\u001b[1;33m\u001b[0m\u001b[1;33m\u001b[0m\u001b[0m\n\u001b[1;32m-> 3361\u001b[1;33m                 \u001b[1;32mreturn\u001b[0m \u001b[0mself\u001b[0m\u001b[1;33m.\u001b[0m\u001b[0m_engine\u001b[0m\u001b[1;33m.\u001b[0m\u001b[0mget_loc\u001b[0m\u001b[1;33m(\u001b[0m\u001b[0mcasted_key\u001b[0m\u001b[1;33m)\u001b[0m\u001b[1;33m\u001b[0m\u001b[1;33m\u001b[0m\u001b[0m\n\u001b[0m\u001b[0;32m   3362\u001b[0m             \u001b[1;32mexcept\u001b[0m \u001b[0mKeyError\u001b[0m \u001b[1;32mas\u001b[0m \u001b[0merr\u001b[0m\u001b[1;33m:\u001b[0m\u001b[1;33m\u001b[0m\u001b[1;33m\u001b[0m\u001b[0m\n",
      "\u001b[1;32m~\\anaconda3\\envs\\dev\\lib\\site-packages\\pandas\\_libs\\index.pyx\u001b[0m in \u001b[0;36mpandas._libs.index.DatetimeEngine.get_loc\u001b[1;34m()\u001b[0m\n",
      "\u001b[1;32m~\\anaconda3\\envs\\dev\\lib\\site-packages\\pandas\\_libs\\index.pyx\u001b[0m in \u001b[0;36mpandas._libs.index.DatetimeEngine.get_loc\u001b[1;34m()\u001b[0m\n",
      "\u001b[1;31mKeyError\u001b[0m: Timestamp('2013-06-04 00:00:00', freq='B')",
      "\nThe above exception was the direct cause of the following exception:\n",
      "\u001b[1;31mKeyError\u001b[0m                                  Traceback (most recent call last)",
      "\u001b[1;32m~\\anaconda3\\envs\\dev\\lib\\site-packages\\pandas\\core\\indexes\\datetimes.py\u001b[0m in \u001b[0;36mget_loc\u001b[1;34m(self, key, method, tolerance)\u001b[0m\n\u001b[0;32m    702\u001b[0m         \u001b[1;32mtry\u001b[0m\u001b[1;33m:\u001b[0m\u001b[1;33m\u001b[0m\u001b[1;33m\u001b[0m\u001b[0m\n\u001b[1;32m--> 703\u001b[1;33m             \u001b[1;32mreturn\u001b[0m \u001b[0mIndex\u001b[0m\u001b[1;33m.\u001b[0m\u001b[0mget_loc\u001b[0m\u001b[1;33m(\u001b[0m\u001b[0mself\u001b[0m\u001b[1;33m,\u001b[0m \u001b[0mkey\u001b[0m\u001b[1;33m,\u001b[0m \u001b[0mmethod\u001b[0m\u001b[1;33m,\u001b[0m \u001b[0mtolerance\u001b[0m\u001b[1;33m)\u001b[0m\u001b[1;33m\u001b[0m\u001b[1;33m\u001b[0m\u001b[0m\n\u001b[0m\u001b[0;32m    704\u001b[0m         \u001b[1;32mexcept\u001b[0m \u001b[0mKeyError\u001b[0m \u001b[1;32mas\u001b[0m \u001b[0merr\u001b[0m\u001b[1;33m:\u001b[0m\u001b[1;33m\u001b[0m\u001b[1;33m\u001b[0m\u001b[0m\n",
      "\u001b[1;32m~\\anaconda3\\envs\\dev\\lib\\site-packages\\pandas\\core\\indexes\\base.py\u001b[0m in \u001b[0;36mget_loc\u001b[1;34m(self, key, method, tolerance)\u001b[0m\n\u001b[0;32m   3362\u001b[0m             \u001b[1;32mexcept\u001b[0m \u001b[0mKeyError\u001b[0m \u001b[1;32mas\u001b[0m \u001b[0merr\u001b[0m\u001b[1;33m:\u001b[0m\u001b[1;33m\u001b[0m\u001b[1;33m\u001b[0m\u001b[0m\n\u001b[1;32m-> 3363\u001b[1;33m                 \u001b[1;32mraise\u001b[0m \u001b[0mKeyError\u001b[0m\u001b[1;33m(\u001b[0m\u001b[0mkey\u001b[0m\u001b[1;33m)\u001b[0m \u001b[1;32mfrom\u001b[0m \u001b[0merr\u001b[0m\u001b[1;33m\u001b[0m\u001b[1;33m\u001b[0m\u001b[0m\n\u001b[0m\u001b[0;32m   3364\u001b[0m \u001b[1;33m\u001b[0m\u001b[0m\n",
      "\u001b[1;31mKeyError\u001b[0m: Timestamp('2013-06-04 00:00:00', freq='B')",
      "\nThe above exception was the direct cause of the following exception:\n",
      "\u001b[1;31mKeyError\u001b[0m                                  Traceback (most recent call last)",
      "\u001b[1;32m~\\AppData\\Local\\Temp\\ipykernel_772344\\2640096219.py\u001b[0m in \u001b[0;36m<module>\u001b[1;34m\u001b[0m\n\u001b[0;32m     22\u001b[0m             \u001b[1;32mpass\u001b[0m\u001b[1;33m\u001b[0m\u001b[1;33m\u001b[0m\u001b[0m\n\u001b[0;32m     23\u001b[0m     \u001b[1;32melse\u001b[0m\u001b[1;33m:\u001b[0m\u001b[1;33m\u001b[0m\u001b[1;33m\u001b[0m\u001b[0m\n\u001b[1;32m---> 24\u001b[1;33m         \u001b[0mtransact\u001b[0m\u001b[1;33m(\u001b[0m\u001b[0mdate\u001b[0m\u001b[1;33m)\u001b[0m\u001b[1;33m\u001b[0m\u001b[1;33m\u001b[0m\u001b[0m\n\u001b[0m\u001b[0;32m     25\u001b[0m \u001b[1;33m\u001b[0m\u001b[0m\n\u001b[0;32m     26\u001b[0m \u001b[1;33m\u001b[0m\u001b[0m\n",
      "\u001b[1;32m~\\AppData\\Local\\Temp\\ipykernel_772344\\2951283410.py\u001b[0m in \u001b[0;36mtransact\u001b[1;34m(date)\u001b[0m\n\u001b[0;32m      4\u001b[0m     \u001b[1;32mglobal\u001b[0m \u001b[0mholding_account\u001b[0m\u001b[1;33m\u001b[0m\u001b[1;33m\u001b[0m\u001b[0m\n\u001b[0;32m      5\u001b[0m     \u001b[1;31m# Validate date\u001b[0m\u001b[1;33m\u001b[0m\u001b[1;33m\u001b[0m\u001b[1;33m\u001b[0m\u001b[0m\n\u001b[1;32m----> 6\u001b[1;33m     \u001b[1;32mif\u001b[0m \u001b[0minvestment_dates\u001b[0m\u001b[1;33m.\u001b[0m\u001b[0mloc\u001b[0m\u001b[1;33m[\u001b[0m\u001b[0mdate\u001b[0m\u001b[1;33m]\u001b[0m\u001b[1;33m[\u001b[0m\u001b[1;34m'months_to_invest'\u001b[0m\u001b[1;33m]\u001b[0m \u001b[1;33m>\u001b[0m \u001b[1;36m0\u001b[0m\u001b[1;33m:\u001b[0m\u001b[1;33m\u001b[0m\u001b[1;33m\u001b[0m\u001b[0m\n\u001b[0m\u001b[0;32m      7\u001b[0m         \u001b[1;31m# Set the next transaction\u001b[0m\u001b[1;33m\u001b[0m\u001b[1;33m\u001b[0m\u001b[1;33m\u001b[0m\u001b[0m\n\u001b[0;32m      8\u001b[0m         \u001b[0mnext_transaction\u001b[0m \u001b[1;33m=\u001b[0m \u001b[0mdate\u001b[0m\u001b[1;33m\u001b[0m\u001b[1;33m\u001b[0m\u001b[0m\n",
      "\u001b[1;32m~\\anaconda3\\envs\\dev\\lib\\site-packages\\pandas\\core\\indexing.py\u001b[0m in \u001b[0;36m__getitem__\u001b[1;34m(self, key)\u001b[0m\n\u001b[0;32m    929\u001b[0m \u001b[1;33m\u001b[0m\u001b[0m\n\u001b[0;32m    930\u001b[0m             \u001b[0mmaybe_callable\u001b[0m \u001b[1;33m=\u001b[0m \u001b[0mcom\u001b[0m\u001b[1;33m.\u001b[0m\u001b[0mapply_if_callable\u001b[0m\u001b[1;33m(\u001b[0m\u001b[0mkey\u001b[0m\u001b[1;33m,\u001b[0m \u001b[0mself\u001b[0m\u001b[1;33m.\u001b[0m\u001b[0mobj\u001b[0m\u001b[1;33m)\u001b[0m\u001b[1;33m\u001b[0m\u001b[1;33m\u001b[0m\u001b[0m\n\u001b[1;32m--> 931\u001b[1;33m             \u001b[1;32mreturn\u001b[0m \u001b[0mself\u001b[0m\u001b[1;33m.\u001b[0m\u001b[0m_getitem_axis\u001b[0m\u001b[1;33m(\u001b[0m\u001b[0mmaybe_callable\u001b[0m\u001b[1;33m,\u001b[0m \u001b[0maxis\u001b[0m\u001b[1;33m=\u001b[0m\u001b[0maxis\u001b[0m\u001b[1;33m)\u001b[0m\u001b[1;33m\u001b[0m\u001b[1;33m\u001b[0m\u001b[0m\n\u001b[0m\u001b[0;32m    932\u001b[0m \u001b[1;33m\u001b[0m\u001b[0m\n\u001b[0;32m    933\u001b[0m     \u001b[1;32mdef\u001b[0m \u001b[0m_is_scalar_access\u001b[0m\u001b[1;33m(\u001b[0m\u001b[0mself\u001b[0m\u001b[1;33m,\u001b[0m \u001b[0mkey\u001b[0m\u001b[1;33m:\u001b[0m \u001b[0mtuple\u001b[0m\u001b[1;33m)\u001b[0m\u001b[1;33m:\u001b[0m\u001b[1;33m\u001b[0m\u001b[1;33m\u001b[0m\u001b[0m\n",
      "\u001b[1;32m~\\anaconda3\\envs\\dev\\lib\\site-packages\\pandas\\core\\indexing.py\u001b[0m in \u001b[0;36m_getitem_axis\u001b[1;34m(self, key, axis)\u001b[0m\n\u001b[0;32m   1162\u001b[0m         \u001b[1;31m# fall thru to straight lookup\u001b[0m\u001b[1;33m\u001b[0m\u001b[1;33m\u001b[0m\u001b[1;33m\u001b[0m\u001b[0m\n\u001b[0;32m   1163\u001b[0m         \u001b[0mself\u001b[0m\u001b[1;33m.\u001b[0m\u001b[0m_validate_key\u001b[0m\u001b[1;33m(\u001b[0m\u001b[0mkey\u001b[0m\u001b[1;33m,\u001b[0m \u001b[0maxis\u001b[0m\u001b[1;33m)\u001b[0m\u001b[1;33m\u001b[0m\u001b[1;33m\u001b[0m\u001b[0m\n\u001b[1;32m-> 1164\u001b[1;33m         \u001b[1;32mreturn\u001b[0m \u001b[0mself\u001b[0m\u001b[1;33m.\u001b[0m\u001b[0m_get_label\u001b[0m\u001b[1;33m(\u001b[0m\u001b[0mkey\u001b[0m\u001b[1;33m,\u001b[0m \u001b[0maxis\u001b[0m\u001b[1;33m=\u001b[0m\u001b[0maxis\u001b[0m\u001b[1;33m)\u001b[0m\u001b[1;33m\u001b[0m\u001b[1;33m\u001b[0m\u001b[0m\n\u001b[0m\u001b[0;32m   1165\u001b[0m \u001b[1;33m\u001b[0m\u001b[0m\n\u001b[0;32m   1166\u001b[0m     \u001b[1;32mdef\u001b[0m \u001b[0m_get_slice_axis\u001b[0m\u001b[1;33m(\u001b[0m\u001b[0mself\u001b[0m\u001b[1;33m,\u001b[0m \u001b[0mslice_obj\u001b[0m\u001b[1;33m:\u001b[0m \u001b[0mslice\u001b[0m\u001b[1;33m,\u001b[0m \u001b[0maxis\u001b[0m\u001b[1;33m:\u001b[0m \u001b[0mint\u001b[0m\u001b[1;33m)\u001b[0m\u001b[1;33m:\u001b[0m\u001b[1;33m\u001b[0m\u001b[1;33m\u001b[0m\u001b[0m\n",
      "\u001b[1;32m~\\anaconda3\\envs\\dev\\lib\\site-packages\\pandas\\core\\indexing.py\u001b[0m in \u001b[0;36m_get_label\u001b[1;34m(self, label, axis)\u001b[0m\n\u001b[0;32m   1111\u001b[0m     \u001b[1;32mdef\u001b[0m \u001b[0m_get_label\u001b[0m\u001b[1;33m(\u001b[0m\u001b[0mself\u001b[0m\u001b[1;33m,\u001b[0m \u001b[0mlabel\u001b[0m\u001b[1;33m,\u001b[0m \u001b[0maxis\u001b[0m\u001b[1;33m:\u001b[0m \u001b[0mint\u001b[0m\u001b[1;33m)\u001b[0m\u001b[1;33m:\u001b[0m\u001b[1;33m\u001b[0m\u001b[1;33m\u001b[0m\u001b[0m\n\u001b[0;32m   1112\u001b[0m         \u001b[1;31m# GH#5667 this will fail if the label is not present in the axis.\u001b[0m\u001b[1;33m\u001b[0m\u001b[1;33m\u001b[0m\u001b[1;33m\u001b[0m\u001b[0m\n\u001b[1;32m-> 1113\u001b[1;33m         \u001b[1;32mreturn\u001b[0m \u001b[0mself\u001b[0m\u001b[1;33m.\u001b[0m\u001b[0mobj\u001b[0m\u001b[1;33m.\u001b[0m\u001b[0mxs\u001b[0m\u001b[1;33m(\u001b[0m\u001b[0mlabel\u001b[0m\u001b[1;33m,\u001b[0m \u001b[0maxis\u001b[0m\u001b[1;33m=\u001b[0m\u001b[0maxis\u001b[0m\u001b[1;33m)\u001b[0m\u001b[1;33m\u001b[0m\u001b[1;33m\u001b[0m\u001b[0m\n\u001b[0m\u001b[0;32m   1114\u001b[0m \u001b[1;33m\u001b[0m\u001b[0m\n\u001b[0;32m   1115\u001b[0m     \u001b[1;32mdef\u001b[0m \u001b[0m_handle_lowerdim_multi_index_axis0\u001b[0m\u001b[1;33m(\u001b[0m\u001b[0mself\u001b[0m\u001b[1;33m,\u001b[0m \u001b[0mtup\u001b[0m\u001b[1;33m:\u001b[0m \u001b[0mtuple\u001b[0m\u001b[1;33m)\u001b[0m\u001b[1;33m:\u001b[0m\u001b[1;33m\u001b[0m\u001b[1;33m\u001b[0m\u001b[0m\n",
      "\u001b[1;32m~\\anaconda3\\envs\\dev\\lib\\site-packages\\pandas\\core\\generic.py\u001b[0m in \u001b[0;36mxs\u001b[1;34m(self, key, axis, level, drop_level)\u001b[0m\n\u001b[0;32m   3774\u001b[0m                 \u001b[1;32mraise\u001b[0m \u001b[0mTypeError\u001b[0m\u001b[1;33m(\u001b[0m\u001b[1;34mf\"Expected label or tuple of labels, got {key}\"\u001b[0m\u001b[1;33m)\u001b[0m \u001b[1;32mfrom\u001b[0m \u001b[0me\u001b[0m\u001b[1;33m\u001b[0m\u001b[1;33m\u001b[0m\u001b[0m\n\u001b[0;32m   3775\u001b[0m         \u001b[1;32melse\u001b[0m\u001b[1;33m:\u001b[0m\u001b[1;33m\u001b[0m\u001b[1;33m\u001b[0m\u001b[0m\n\u001b[1;32m-> 3776\u001b[1;33m             \u001b[0mloc\u001b[0m \u001b[1;33m=\u001b[0m \u001b[0mindex\u001b[0m\u001b[1;33m.\u001b[0m\u001b[0mget_loc\u001b[0m\u001b[1;33m(\u001b[0m\u001b[0mkey\u001b[0m\u001b[1;33m)\u001b[0m\u001b[1;33m\u001b[0m\u001b[1;33m\u001b[0m\u001b[0m\n\u001b[0m\u001b[0;32m   3777\u001b[0m \u001b[1;33m\u001b[0m\u001b[0m\n\u001b[0;32m   3778\u001b[0m             \u001b[1;32mif\u001b[0m \u001b[0misinstance\u001b[0m\u001b[1;33m(\u001b[0m\u001b[0mloc\u001b[0m\u001b[1;33m,\u001b[0m \u001b[0mnp\u001b[0m\u001b[1;33m.\u001b[0m\u001b[0mndarray\u001b[0m\u001b[1;33m)\u001b[0m\u001b[1;33m:\u001b[0m\u001b[1;33m\u001b[0m\u001b[1;33m\u001b[0m\u001b[0m\n",
      "\u001b[1;32m~\\anaconda3\\envs\\dev\\lib\\site-packages\\pandas\\core\\indexes\\datetimes.py\u001b[0m in \u001b[0;36mget_loc\u001b[1;34m(self, key, method, tolerance)\u001b[0m\n\u001b[0;32m    703\u001b[0m             \u001b[1;32mreturn\u001b[0m \u001b[0mIndex\u001b[0m\u001b[1;33m.\u001b[0m\u001b[0mget_loc\u001b[0m\u001b[1;33m(\u001b[0m\u001b[0mself\u001b[0m\u001b[1;33m,\u001b[0m \u001b[0mkey\u001b[0m\u001b[1;33m,\u001b[0m \u001b[0mmethod\u001b[0m\u001b[1;33m,\u001b[0m \u001b[0mtolerance\u001b[0m\u001b[1;33m)\u001b[0m\u001b[1;33m\u001b[0m\u001b[1;33m\u001b[0m\u001b[0m\n\u001b[0;32m    704\u001b[0m         \u001b[1;32mexcept\u001b[0m \u001b[0mKeyError\u001b[0m \u001b[1;32mas\u001b[0m \u001b[0merr\u001b[0m\u001b[1;33m:\u001b[0m\u001b[1;33m\u001b[0m\u001b[1;33m\u001b[0m\u001b[0m\n\u001b[1;32m--> 705\u001b[1;33m             \u001b[1;32mraise\u001b[0m \u001b[0mKeyError\u001b[0m\u001b[1;33m(\u001b[0m\u001b[0morig_key\u001b[0m\u001b[1;33m)\u001b[0m \u001b[1;32mfrom\u001b[0m \u001b[0merr\u001b[0m\u001b[1;33m\u001b[0m\u001b[1;33m\u001b[0m\u001b[0m\n\u001b[0m\u001b[0;32m    706\u001b[0m \u001b[1;33m\u001b[0m\u001b[0m\n\u001b[0;32m    707\u001b[0m     \u001b[1;32mdef\u001b[0m \u001b[0m_maybe_cast_for_get_loc\u001b[0m\u001b[1;33m(\u001b[0m\u001b[0mself\u001b[0m\u001b[1;33m,\u001b[0m \u001b[0mkey\u001b[0m\u001b[1;33m)\u001b[0m \u001b[1;33m->\u001b[0m \u001b[0mTimestamp\u001b[0m\u001b[1;33m:\u001b[0m\u001b[1;33m\u001b[0m\u001b[1;33m\u001b[0m\u001b[0m\n",
      "\u001b[1;31mKeyError\u001b[0m: Timestamp('2013-06-04 00:00:00', freq='B')"
     ]
    }
   ],
   "source": [
    "# Adjust the invested balance by the fund return until the next contribution\n",
    "\n",
    "# Set parameters for range\n",
    "today = date.today()\n",
    "\n",
    "# Set range\n",
    "transaction_range = pd.date_range(\n",
    "    start=pd.Timestamp(portfolio_investment_start_date), \n",
    "    end=today, \n",
    "    freq='B'\n",
    ").tolist()\n",
    "\n",
    "#transaction_range = [i.strftime('%Y-%m-%d') for i in transaction_range]   \n",
    "\n",
    "# For each day in range, multiply by fund return\n",
    "# loop of returns \n",
    "for date in transaction_range:\n",
    "    if date < next_transaction: \n",
    "        try:\n",
    "            investment_account.loc[date] = investment_account.iloc[-1] * (1 + portfolio_returns.loc[date])\n",
    "        except:\n",
    "            pass\n",
    "    else:\n",
    "        transact(date)\n",
    "        \n",
    "    \n",
    "investment_account.tail()"
   ]
  },
  {
   "cell_type": "code",
   "execution_count": null,
   "id": "fc168d60-ad5a-40f0-9455-61e93ba584b6",
   "metadata": {},
   "outputs": [],
   "source": [
    "# Maintenance of account\n",
    "# append day by day performance\n",
    "# trigger contribution dates to top up by investment_amount and rebalance\n",
    "\n",
    "# This function aggregates the portfolio value by the fund return amount,\n",
    "# unless a contribution is made.\n",
    "# If a contribution is made, the amount is added to the portfolio and the portfolio is rebalanced back to target weights\n",
    "\n",
    "\n",
    "# Note - freq 'MS' = month start\n",
    "\n",
    "# create investment date range\n",
    "inv_date_range = pd.date_range(\n",
    "    start=portfolio_investment_start_date,\n",
    "    end=today, \n",
    "    freq='B'\n",
    ").tolist()\n",
    "\n",
    "# pull dates from timestamp and convert to list\n",
    "inv_date_range = [i.strftime('%Y-%m-%d') for i in inv_date_range]\n",
    "\n",
    "# for each day from portfolio start until investment date\n",
    "# append row, lookup fund return & multiply by shift(1)\n",
    "\n",
    "transactions_df = pd.DataFrame(columns=['Amount'])\n",
    "\n",
    "for day in inv_date_range:\n",
    "    try:\n",
    "        # Look up investment dates df and multiple number of months of investment by monthly ira contribution limit for the year\n",
    "        if investment_dates.loc[day][0]:\n",
    "            investment_amount = round(investment_dates.loc[day][0] * (ira_contribution / 12), 2)\n",
    "            # Add to a dataframe\n",
    "            df = pd.DataFrame(index = [day], data = [investment_amount], columns = ['Amount'])\n",
    "            # append to the transactions df\n",
    "            transactions_df = transactions_df.append(df, ignore_index=False)\n",
    "    except:\n",
    "        # If not an investment date, add row with zero\n",
    "        df = pd.DataFrame(index = [day], data = [0], columns = ['Amount'])\n",
    "        # append to the transactions df\n",
    "        transactions_df = transactions_df.append(df, ignore_index=False)\n",
    "        \n"
   ]
  },
  {
   "cell_type": "code",
   "execution_count": null,
   "id": "c1cefd5c-0b0b-478b-80c8-e620d5a3688c",
   "metadata": {},
   "outputs": [],
   "source": [
    "\n",
    "\n",
    "# # Set range\n",
    "# zero_transaction_range = pd.date_range(\n",
    "#     start=pd.Timestamp(last_transaction_date) + BDay(1), \n",
    "#     end=next_transaction, \n",
    "#     freq='B'\n",
    "# ).tolist()\n",
    "\n",
    "# zero_transaction_range = [i.strftime('%Y-%m-%d') for i in zero_transaction_range]\n",
    "\n",
    "# # For each day in range, multiply by fund return\n",
    "# # loop of returns \n",
    "# for date in zero_transaction_range:\n",
    "#     try:\n",
    "#         investment_account.loc[date] = investment_account.iloc[-1] * (1 + portfolio_returns.loc[date])\n",
    "#     except:\n",
    "#         pass\n"
   ]
  },
  {
   "cell_type": "code",
   "execution_count": null,
   "id": "4404a475-da11-4f62-86c3-adfae740efe4",
   "metadata": {},
   "outputs": [],
   "source": [
    "#new_account.loc[len(new_account.index)] = new_account.iloc[-1] * (1 + portfolio_returns.loc[new_account.index[-1]])\n",
    "\n",
    "\n",
    "\n"
   ]
  },
  {
   "cell_type": "code",
   "execution_count": 10,
   "id": "3cfecf94-36bf-4997-b905-176d7d6a7911",
   "metadata": {},
   "outputs": [],
   "source": [
    "# IRA contribution limits\n",
    "# create function to top up the holding account each year with the new limits"
   ]
  },
  {
   "cell_type": "code",
   "execution_count": null,
   "id": "c65ad946-2a15-4fa2-b366-a072c3a2f729",
   "metadata": {},
   "outputs": [],
   "source": []
  }
 ],
 "metadata": {
  "kernelspec": {
   "display_name": "dev",
   "language": "python",
   "name": "dev"
  },
  "language_info": {
   "codemirror_mode": {
    "name": "ipython",
    "version": 3
   },
   "file_extension": ".py",
   "mimetype": "text/x-python",
   "name": "python",
   "nbconvert_exporter": "python",
   "pygments_lexer": "ipython3",
   "version": "3.7.13"
  }
 },
 "nbformat": 4,
 "nbformat_minor": 5
}
